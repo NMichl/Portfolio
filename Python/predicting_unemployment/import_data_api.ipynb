{
 "cells": [
  {
   "cell_type": "code",
   "execution_count": null,
   "id": "1f02e019-3c17-48f9-b3bb-44b0b2e3e906",
   "metadata": {},
   "outputs": [],
   "source": [
    "# Loading in packages and intializing economic indicators\n",
    "- I curated a basket of macro indicators (growth, inflation, savings, labor) that plausibly drive unemployment. \n",
    "- Also mapped cryptic World Bank codes to readable column names to keep downstream code legible and plots self-explanatory."
   ]
  },
  {
   "cell_type": "code",
   "execution_count": 2,
   "id": "6889e5bd-d8d1-44a1-9a00-02cc7e2dcbe5",
   "metadata": {},
   "outputs": [],
   "source": [
    "import numpy as np\n",
    "import pandas as pd\n",
    "import matplotlib.pyplot as pltb\n",
    "import wbgapi as wb"
   ]
  },
  {
   "cell_type": "code",
   "execution_count": 3,
   "id": "cb5d4ea9-629c-46cb-8f8a-d1cacc443574",
   "metadata": {},
   "outputs": [],
   "source": [
    "pd.set_option(\"display.max_columns\", 16)\n",
    "Indicators = {\"series\": [\"SL.UEM.TOTL.ZS\", \"NY.GDP.MKTP.KD.ZG\", \"NE.CON.PRVT.KD.ZG\", \n",
    "               \"NE.CON.GOVT.KD.ZG\", \"NE.GDI.TOTL.KD.ZG\", \"NE.EXP.GNFS.KD.ZG\", \n",
    "               \"NE.IMP.GNFS.KD.ZG\", \"NV.IND.TOTL.KD.ZG\", \"NV.SRV.TOTL.KD.ZG\", \n",
    "               \"NV.AGR.TOTL.KD.ZG\", \"FP.CPI.TOTL.ZG\", \"NY.GDP.DEFL.KD.ZG\", \n",
    "               \"FR.INR.DPST\", \"FR.INR.RINR\", \"FM.LBL.MQMY.GD.ZS\", \"SL.TLF.CACT.ZS\",\n",
    "               \"SL.EMP.TOTL.SP.ZS\", \"SP.POP.GROW\", \"NY.GNS.ICTR.ZS\"]}\n",
    "column_names = {\n",
    "    \"FP.CPI.TOTL.ZG\": \"cpi_inflation_pct\",\n",
    "    \"FR.INR.DPST\": \"deposit_rate_pct\",\n",
    "    \"FR.INR.RINR\": \"real_interest_rate_pct\",\n",
    "    \"NE.CON.GOVT.KD.ZG\": \"govt_consumption_growth_pct\",\n",
    "    \"NE.CON.PRVT.KD.ZG\": \"private_consumption_growth_pct\",\n",
    "    \"NE.EXP.GNFS.KD.ZG\": \"exports_growth_pct\",\n",
    "    \"NE.GDI.TOTL.KD.ZG\": \"gross_capital_form_growth_pct\",\n",
    "    \"NE.IMP.GNFS.KD.ZG\": \"imports_growth_pct\",\n",
    "    \"NV.AGR.TOTL.KD.ZG\": \"agriculture_growth_pct\",\n",
    "    \"NV.IND.TOTL.KD.ZG\": \"industry_growth_pct\",\n",
    "    \"NV.SRV.TOTL.KD.ZG\": \"services_growth_pct\",\n",
    "    \"NY.GDP.DEFL.KD.ZG\": \"gdp_deflator_inflation_pct\",\n",
    "    \"NY.GDP.MKTP.KD.ZG\": \"gdp_growth_pct\",\n",
    "    \"NY.GNS.ICTR.ZS\": \"gross_savings_gdp_pct\",\n",
    "    \"SL.EMP.TOTL.SP.ZS\": \"employment_ratio_pct\",\n",
    "    \"SL.TLF.CACT.ZS\": \"labor_force_participation_pct\",\n",
    "    \"SL.UEM.TOTL.ZS\": \"unemployment_rate_pct\",\n",
    "    \"SP.POP.GROW\": \"population_growth_pct\",\n",
    "}"
   ]
  },
  {
   "cell_type": "markdown",
   "id": "59b75005-a8d0-4a1a-8fb9-4587b3665070",
   "metadata": {},
   "source": [
    "- Code to show how the API works"
   ]
  },
  {
   "cell_type": "code",
   "execution_count": 6,
   "id": "387c0f09-0e58-4a39-a1eb-7b968dd09ceb",
   "metadata": {
    "scrolled": true
   },
   "outputs": [
    {
     "name": "stdout",
     "output_type": "stream",
     "text": [
      "                              YR1980     YR1981\n",
      "economy series                                 \n",
      "AFG     FP.CPI.TOTL.ZG           NaN        NaN\n",
      "        FR.INR.DPST              NaN        NaN\n",
      "        FR.INR.RINR              NaN        NaN\n",
      "        NE.CON.GOVT.KD.ZG        NaN        NaN\n",
      "        NE.CON.PRVT.KD.ZG        NaN        NaN\n",
      "        NE.EXP.GNFS.KD.ZG        NaN        NaN\n",
      "        NE.GDI.TOTL.KD.ZG        NaN        NaN\n",
      "        NE.IMP.GNFS.KD.ZG        NaN        NaN\n",
      "        NV.AGR.TOTL.KD.ZG        NaN        NaN\n",
      "        NV.IND.TOTL.KD.ZG        NaN        NaN\n",
      "        NV.SRV.TOTL.KD.ZG        NaN        NaN\n",
      "        NY.GDP.DEFL.KD.ZG        NaN        NaN\n",
      "        NY.GDP.MKTP.KD.ZG        NaN        NaN\n",
      "        NY.GNS.ICTR.ZS           NaN        NaN\n",
      "        SL.EMP.TOTL.SP.ZS        NaN        NaN\n",
      "        SL.TLF.CACT.ZS           NaN        NaN\n",
      "        SL.UEM.TOTL.ZS           NaN        NaN\n",
      "        SP.POP.GROW        -3.625808  -9.819771\n",
      "DEU     FP.CPI.TOTL.ZG      5.441058   6.344243\n",
      "        FR.INR.DPST              NaN        NaN\n",
      "        FR.INR.RINR              NaN        NaN\n",
      "        NE.CON.GOVT.KD.ZG   3.473918   4.581183\n",
      "        NE.CON.PRVT.KD.ZG   1.509652  -0.372559\n",
      "        NE.EXP.GNFS.KD.ZG   5.459882   7.218407\n",
      "        NE.GDI.TOTL.KD.ZG  -3.001706 -12.054055\n",
      "        NE.IMP.GNFS.KD.ZG   3.086316  -2.961013\n",
      "        NV.AGR.TOTL.KD.ZG        NaN        NaN\n",
      "        NV.IND.TOTL.KD.ZG        NaN        NaN\n",
      "        NV.SRV.TOTL.KD.ZG        NaN        NaN\n",
      "        NY.GDP.DEFL.KD.ZG   5.451189   4.175239\n",
      "        NY.GDP.MKTP.KD.ZG   1.408829   0.529241\n",
      "        NY.GNS.ICTR.ZS     19.761972  18.399427\n",
      "        SL.EMP.TOTL.SP.ZS        NaN        NaN\n",
      "        SL.TLF.CACT.ZS           NaN        NaN\n",
      "        SL.UEM.TOTL.ZS           NaN        NaN\n",
      "        SP.POP.GROW         0.207430   0.152308\n",
      "   economy             series       year     values\n",
      "0      AFG     FP.CPI.TOTL.ZG 1980-01-01        NaN\n",
      "1      AFG        FR.INR.DPST 1980-01-01        NaN\n",
      "2      AFG        FR.INR.RINR 1980-01-01        NaN\n",
      "3      AFG  NE.CON.GOVT.KD.ZG 1980-01-01        NaN\n",
      "4      AFG  NE.CON.PRVT.KD.ZG 1980-01-01        NaN\n",
      "..     ...                ...        ...        ...\n",
      "67     DEU     NY.GNS.ICTR.ZS 1981-01-01  18.399427\n",
      "68     DEU  SL.EMP.TOTL.SP.ZS 1981-01-01        NaN\n",
      "69     DEU     SL.TLF.CACT.ZS 1981-01-01        NaN\n",
      "70     DEU     SL.UEM.TOTL.ZS 1981-01-01        NaN\n",
      "71     DEU        SP.POP.GROW 1981-01-01   0.152308\n",
      "\n",
      "[72 rows x 4 columns]\n",
      "series       year economy  cpi_inflation_pct  govt_consumption_growth_pct  private_consumption_growth_pct  \\\n",
      "0      1980-01-01     AFG                NaN                          NaN                             NaN   \n",
      "1      1980-01-01     DEU           5.441058                     3.473918                        1.509652   \n",
      "2      1981-01-01     AFG                NaN                          NaN                             NaN   \n",
      "3      1981-01-01     DEU           6.344243                     4.581183                       -0.372559   \n",
      "\n",
      "series  exports_growth_pct  gross_capital_form_growth_pct  imports_growth_pct  gdp_deflator_inflation_pct  \\\n",
      "0                      NaN                            NaN                 NaN                         NaN   \n",
      "1                 5.459882                      -3.001706            3.086316                    5.451189   \n",
      "2                      NaN                            NaN                 NaN                         NaN   \n",
      "3                 7.218407                     -12.054055           -2.961013                    4.175239   \n",
      "\n",
      "series  gdp_growth_pct  gross_savings_gdp_pct  population_growth_pct  \n",
      "0                  NaN                    NaN              -3.625808  \n",
      "1             1.408829              19.761972               0.207430  \n",
      "2                  NaN                    NaN              -9.819771  \n",
      "3             0.529241              18.399427               0.152308  \n"
     ]
    }
   ],
   "source": [
    "df_test = wb.data.DataFrame(Indicators['Series'], economy = ['DEU', 'AFG'], time = [1980, 1981])\n",
    "print(df_test)\n",
    "values = df_test.columns\n",
    "df_test.reset_index(inplace = True)\n",
    "df_test = df_test.melt(id_vars = ['economy', 'series'], value_vars = values, var_name='year',value_name='values')\n",
    "df_test['year'] = pd.to_datetime(df_test['year'].str.replace(\"YR\", \"\"), format = '%Y')\n",
    "print(df_test)\n",
    "df_test = df_test.pivot_table(values = 'values', columns = 'series', index = ['year' ,'economy']).rename(columns=column_names).reset_index()   \n",
    "print(df_test)\n"
   ]
  },
  {
   "cell_type": "markdown",
   "id": "3b13b397-55e4-47ab-9dec-25fae43ef1a4",
   "metadata": {},
   "source": [
    "# Pulling data from the World Bank API\n",
    "- Using wbgapi, I fetched country–year panels in small time slices to avoid oversized API pulls and concatenated them into one tidy DataFrame.\n",
    "- Additionaly made some reshaping so i can work with this dataset directly in machine learning context."
   ]
  },
  {
   "cell_type": "code",
   "execution_count": 17,
   "id": "fed12ab8-27dc-4aff-ad89-8efea9d981e1",
   "metadata": {},
   "outputs": [],
   "source": [
    "def get_clean_data(series):\n",
    "    df_final = pd.DataFrame()\n",
    "    for i in range(1980, 2022, 2):\n",
    "        years = [i, min(i + 1, 2020)]\n",
    "        df = wb.data.DataFrame(series, economy = 'all', time=years, skipAggs=True)\n",
    "        values = df.columns\n",
    "        df.reset_index(inplace = True)\n",
    "        df = df.melt(id_vars = ['economy', 'series'], value_vars = values, var_name='years',value_name='values')\n",
    "        df[\"years\"] = pd.to_datetime(df[\"years\"].str.replace(\"YR\", \"\"), format = '%Y')\n",
    "        df = df.pivot_table(values = 'values', columns = 'series', index = ['years' ,'economy']).rename(columns=column_names).reset_index()\n",
    "        df.columns.name = None\n",
    "        df_final = pd.concat([df_final, df])\n",
    "    return df_final\n",
    "dataset = get_clean_data(Indicators['series'])"
   ]
  },
  {
   "cell_type": "code",
   "execution_count": 22,
   "id": "22b86e16-1978-40e5-b439-7cc0582b2a5b",
   "metadata": {},
   "outputs": [],
   "source": [
    "dataset.to_csv(r'D:\\Python\\PycharmProjects\\Bundesbank\\unemplyoment_data.csv')"
   ]
  }
 ],
 "metadata": {
  "kernelspec": {
   "display_name": "Python 3 (ipykernel)",
   "language": "python",
   "name": "python3"
  },
  "language_info": {
   "codemirror_mode": {
    "name": "ipython",
    "version": 3
   },
   "file_extension": ".py",
   "mimetype": "text/x-python",
   "name": "python",
   "nbconvert_exporter": "python",
   "pygments_lexer": "ipython3",
   "version": "3.13.3"
  }
 },
 "nbformat": 4,
 "nbformat_minor": 5
}
